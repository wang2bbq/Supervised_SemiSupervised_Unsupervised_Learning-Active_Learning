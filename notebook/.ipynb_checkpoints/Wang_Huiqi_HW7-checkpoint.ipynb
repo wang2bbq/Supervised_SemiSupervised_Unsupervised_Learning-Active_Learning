{
 "cells": [
  {
   "cell_type": "markdown",
   "metadata": {},
   "source": [
    "##### Name: Huiqi Wang\n",
    "##### Github Username: wang2bbq\n",
    "##### USC ID: 6613859213"
   ]
  },
  {
   "cell_type": "markdown",
   "metadata": {},
   "source": [
    "# 1. Multi-class and Multi-Label Classification Using Support Vector Machines"
   ]
  },
  {
   "cell_type": "markdown",
   "metadata": {},
   "source": [
    "## a. Download the Anuran Calls (MFCCs) Data Set"
   ]
  },
  {
   "cell_type": "code",
   "execution_count": 6,
   "metadata": {},
   "outputs": [
    {
     "data": {
      "text/html": [
       "<div>\n",
       "<style scoped>\n",
       "    .dataframe tbody tr th:only-of-type {\n",
       "        vertical-align: middle;\n",
       "    }\n",
       "\n",
       "    .dataframe tbody tr th {\n",
       "        vertical-align: top;\n",
       "    }\n",
       "\n",
       "    .dataframe thead th {\n",
       "        text-align: right;\n",
       "    }\n",
       "</style>\n",
       "<table border=\"1\" class=\"dataframe\">\n",
       "  <thead>\n",
       "    <tr style=\"text-align: right;\">\n",
       "      <th></th>\n",
       "      <th>MFCCs_ 1</th>\n",
       "      <th>MFCCs_ 2</th>\n",
       "      <th>MFCCs_ 3</th>\n",
       "      <th>MFCCs_ 4</th>\n",
       "      <th>MFCCs_ 5</th>\n",
       "      <th>MFCCs_ 6</th>\n",
       "      <th>MFCCs_ 7</th>\n",
       "      <th>MFCCs_ 8</th>\n",
       "      <th>MFCCs_ 9</th>\n",
       "      <th>MFCCs_10</th>\n",
       "      <th>...</th>\n",
       "      <th>MFCCs_17</th>\n",
       "      <th>MFCCs_18</th>\n",
       "      <th>MFCCs_19</th>\n",
       "      <th>MFCCs_20</th>\n",
       "      <th>MFCCs_21</th>\n",
       "      <th>MFCCs_22</th>\n",
       "      <th>Family</th>\n",
       "      <th>Genus</th>\n",
       "      <th>Species</th>\n",
       "      <th>RecordID</th>\n",
       "    </tr>\n",
       "  </thead>\n",
       "  <tbody>\n",
       "    <tr>\n",
       "      <th>0</th>\n",
       "      <td>1.0</td>\n",
       "      <td>0.152936</td>\n",
       "      <td>-0.105586</td>\n",
       "      <td>0.200722</td>\n",
       "      <td>0.317201</td>\n",
       "      <td>0.260764</td>\n",
       "      <td>0.100945</td>\n",
       "      <td>-0.150063</td>\n",
       "      <td>-0.171128</td>\n",
       "      <td>0.124676</td>\n",
       "      <td>...</td>\n",
       "      <td>-0.108351</td>\n",
       "      <td>-0.077623</td>\n",
       "      <td>-0.009568</td>\n",
       "      <td>0.057684</td>\n",
       "      <td>0.118680</td>\n",
       "      <td>0.014038</td>\n",
       "      <td>Leptodactylidae</td>\n",
       "      <td>Adenomera</td>\n",
       "      <td>AdenomeraAndre</td>\n",
       "      <td>1</td>\n",
       "    </tr>\n",
       "    <tr>\n",
       "      <th>1</th>\n",
       "      <td>1.0</td>\n",
       "      <td>0.171534</td>\n",
       "      <td>-0.098975</td>\n",
       "      <td>0.268425</td>\n",
       "      <td>0.338672</td>\n",
       "      <td>0.268353</td>\n",
       "      <td>0.060835</td>\n",
       "      <td>-0.222475</td>\n",
       "      <td>-0.207693</td>\n",
       "      <td>0.170883</td>\n",
       "      <td>...</td>\n",
       "      <td>-0.090974</td>\n",
       "      <td>-0.056510</td>\n",
       "      <td>-0.035303</td>\n",
       "      <td>0.020140</td>\n",
       "      <td>0.082263</td>\n",
       "      <td>0.029056</td>\n",
       "      <td>Leptodactylidae</td>\n",
       "      <td>Adenomera</td>\n",
       "      <td>AdenomeraAndre</td>\n",
       "      <td>1</td>\n",
       "    </tr>\n",
       "    <tr>\n",
       "      <th>2</th>\n",
       "      <td>1.0</td>\n",
       "      <td>0.152317</td>\n",
       "      <td>-0.082973</td>\n",
       "      <td>0.287128</td>\n",
       "      <td>0.276014</td>\n",
       "      <td>0.189867</td>\n",
       "      <td>0.008714</td>\n",
       "      <td>-0.242234</td>\n",
       "      <td>-0.219153</td>\n",
       "      <td>0.232538</td>\n",
       "      <td>...</td>\n",
       "      <td>-0.050691</td>\n",
       "      <td>-0.023590</td>\n",
       "      <td>-0.066722</td>\n",
       "      <td>-0.025083</td>\n",
       "      <td>0.099108</td>\n",
       "      <td>0.077162</td>\n",
       "      <td>Leptodactylidae</td>\n",
       "      <td>Adenomera</td>\n",
       "      <td>AdenomeraAndre</td>\n",
       "      <td>1</td>\n",
       "    </tr>\n",
       "    <tr>\n",
       "      <th>3</th>\n",
       "      <td>1.0</td>\n",
       "      <td>0.224392</td>\n",
       "      <td>0.118985</td>\n",
       "      <td>0.329432</td>\n",
       "      <td>0.372088</td>\n",
       "      <td>0.361005</td>\n",
       "      <td>0.015501</td>\n",
       "      <td>-0.194347</td>\n",
       "      <td>-0.098181</td>\n",
       "      <td>0.270375</td>\n",
       "      <td>...</td>\n",
       "      <td>-0.136009</td>\n",
       "      <td>-0.177037</td>\n",
       "      <td>-0.130498</td>\n",
       "      <td>-0.054766</td>\n",
       "      <td>-0.018691</td>\n",
       "      <td>0.023954</td>\n",
       "      <td>Leptodactylidae</td>\n",
       "      <td>Adenomera</td>\n",
       "      <td>AdenomeraAndre</td>\n",
       "      <td>1</td>\n",
       "    </tr>\n",
       "    <tr>\n",
       "      <th>4</th>\n",
       "      <td>1.0</td>\n",
       "      <td>0.087817</td>\n",
       "      <td>-0.068345</td>\n",
       "      <td>0.306967</td>\n",
       "      <td>0.330923</td>\n",
       "      <td>0.249144</td>\n",
       "      <td>0.006884</td>\n",
       "      <td>-0.265423</td>\n",
       "      <td>-0.172700</td>\n",
       "      <td>0.266434</td>\n",
       "      <td>...</td>\n",
       "      <td>-0.048885</td>\n",
       "      <td>-0.053074</td>\n",
       "      <td>-0.088550</td>\n",
       "      <td>-0.031346</td>\n",
       "      <td>0.108610</td>\n",
       "      <td>0.079244</td>\n",
       "      <td>Leptodactylidae</td>\n",
       "      <td>Adenomera</td>\n",
       "      <td>AdenomeraAndre</td>\n",
       "      <td>1</td>\n",
       "    </tr>\n",
       "    <tr>\n",
       "      <th>...</th>\n",
       "      <td>...</td>\n",
       "      <td>...</td>\n",
       "      <td>...</td>\n",
       "      <td>...</td>\n",
       "      <td>...</td>\n",
       "      <td>...</td>\n",
       "      <td>...</td>\n",
       "      <td>...</td>\n",
       "      <td>...</td>\n",
       "      <td>...</td>\n",
       "      <td>...</td>\n",
       "      <td>...</td>\n",
       "      <td>...</td>\n",
       "      <td>...</td>\n",
       "      <td>...</td>\n",
       "      <td>...</td>\n",
       "      <td>...</td>\n",
       "      <td>...</td>\n",
       "      <td>...</td>\n",
       "      <td>...</td>\n",
       "      <td>...</td>\n",
       "    </tr>\n",
       "    <tr>\n",
       "      <th>7190</th>\n",
       "      <td>1.0</td>\n",
       "      <td>-0.554504</td>\n",
       "      <td>-0.337717</td>\n",
       "      <td>0.035533</td>\n",
       "      <td>0.034511</td>\n",
       "      <td>0.443451</td>\n",
       "      <td>0.093889</td>\n",
       "      <td>-0.100753</td>\n",
       "      <td>0.037087</td>\n",
       "      <td>0.081075</td>\n",
       "      <td>...</td>\n",
       "      <td>0.069430</td>\n",
       "      <td>0.071001</td>\n",
       "      <td>0.021591</td>\n",
       "      <td>0.052449</td>\n",
       "      <td>-0.021860</td>\n",
       "      <td>-0.079860</td>\n",
       "      <td>Hylidae</td>\n",
       "      <td>Scinax</td>\n",
       "      <td>ScinaxRuber</td>\n",
       "      <td>60</td>\n",
       "    </tr>\n",
       "    <tr>\n",
       "      <th>7191</th>\n",
       "      <td>1.0</td>\n",
       "      <td>-0.517273</td>\n",
       "      <td>-0.370574</td>\n",
       "      <td>0.030673</td>\n",
       "      <td>0.068097</td>\n",
       "      <td>0.402890</td>\n",
       "      <td>0.096628</td>\n",
       "      <td>-0.116460</td>\n",
       "      <td>0.063727</td>\n",
       "      <td>0.089034</td>\n",
       "      <td>...</td>\n",
       "      <td>0.061127</td>\n",
       "      <td>0.068978</td>\n",
       "      <td>0.017745</td>\n",
       "      <td>0.046461</td>\n",
       "      <td>-0.015418</td>\n",
       "      <td>-0.101892</td>\n",
       "      <td>Hylidae</td>\n",
       "      <td>Scinax</td>\n",
       "      <td>ScinaxRuber</td>\n",
       "      <td>60</td>\n",
       "    </tr>\n",
       "    <tr>\n",
       "      <th>7192</th>\n",
       "      <td>1.0</td>\n",
       "      <td>-0.582557</td>\n",
       "      <td>-0.343237</td>\n",
       "      <td>0.029468</td>\n",
       "      <td>0.064179</td>\n",
       "      <td>0.385596</td>\n",
       "      <td>0.114905</td>\n",
       "      <td>-0.103317</td>\n",
       "      <td>0.070370</td>\n",
       "      <td>0.081317</td>\n",
       "      <td>...</td>\n",
       "      <td>0.082474</td>\n",
       "      <td>0.077771</td>\n",
       "      <td>-0.009688</td>\n",
       "      <td>0.027834</td>\n",
       "      <td>-0.000531</td>\n",
       "      <td>-0.080425</td>\n",
       "      <td>Hylidae</td>\n",
       "      <td>Scinax</td>\n",
       "      <td>ScinaxRuber</td>\n",
       "      <td>60</td>\n",
       "    </tr>\n",
       "    <tr>\n",
       "      <th>7193</th>\n",
       "      <td>1.0</td>\n",
       "      <td>-0.519497</td>\n",
       "      <td>-0.307553</td>\n",
       "      <td>-0.004922</td>\n",
       "      <td>0.072865</td>\n",
       "      <td>0.377131</td>\n",
       "      <td>0.086866</td>\n",
       "      <td>-0.115799</td>\n",
       "      <td>0.056979</td>\n",
       "      <td>0.089316</td>\n",
       "      <td>...</td>\n",
       "      <td>0.051796</td>\n",
       "      <td>0.069073</td>\n",
       "      <td>0.017963</td>\n",
       "      <td>0.041803</td>\n",
       "      <td>-0.027911</td>\n",
       "      <td>-0.096895</td>\n",
       "      <td>Hylidae</td>\n",
       "      <td>Scinax</td>\n",
       "      <td>ScinaxRuber</td>\n",
       "      <td>60</td>\n",
       "    </tr>\n",
       "    <tr>\n",
       "      <th>7194</th>\n",
       "      <td>1.0</td>\n",
       "      <td>-0.508833</td>\n",
       "      <td>-0.324106</td>\n",
       "      <td>0.062068</td>\n",
       "      <td>0.078211</td>\n",
       "      <td>0.397188</td>\n",
       "      <td>0.094596</td>\n",
       "      <td>-0.117672</td>\n",
       "      <td>0.058874</td>\n",
       "      <td>0.076180</td>\n",
       "      <td>...</td>\n",
       "      <td>0.061455</td>\n",
       "      <td>0.072983</td>\n",
       "      <td>-0.003980</td>\n",
       "      <td>0.031560</td>\n",
       "      <td>-0.029355</td>\n",
       "      <td>-0.087910</td>\n",
       "      <td>Hylidae</td>\n",
       "      <td>Scinax</td>\n",
       "      <td>ScinaxRuber</td>\n",
       "      <td>60</td>\n",
       "    </tr>\n",
       "  </tbody>\n",
       "</table>\n",
       "<p>7195 rows × 26 columns</p>\n",
       "</div>"
      ],
      "text/plain": [
       "      MFCCs_ 1  MFCCs_ 2  MFCCs_ 3  MFCCs_ 4  MFCCs_ 5  MFCCs_ 6  MFCCs_ 7  \\\n",
       "0          1.0  0.152936 -0.105586  0.200722  0.317201  0.260764  0.100945   \n",
       "1          1.0  0.171534 -0.098975  0.268425  0.338672  0.268353  0.060835   \n",
       "2          1.0  0.152317 -0.082973  0.287128  0.276014  0.189867  0.008714   \n",
       "3          1.0  0.224392  0.118985  0.329432  0.372088  0.361005  0.015501   \n",
       "4          1.0  0.087817 -0.068345  0.306967  0.330923  0.249144  0.006884   \n",
       "...        ...       ...       ...       ...       ...       ...       ...   \n",
       "7190       1.0 -0.554504 -0.337717  0.035533  0.034511  0.443451  0.093889   \n",
       "7191       1.0 -0.517273 -0.370574  0.030673  0.068097  0.402890  0.096628   \n",
       "7192       1.0 -0.582557 -0.343237  0.029468  0.064179  0.385596  0.114905   \n",
       "7193       1.0 -0.519497 -0.307553 -0.004922  0.072865  0.377131  0.086866   \n",
       "7194       1.0 -0.508833 -0.324106  0.062068  0.078211  0.397188  0.094596   \n",
       "\n",
       "      MFCCs_ 8  MFCCs_ 9  MFCCs_10  ...  MFCCs_17  MFCCs_18  MFCCs_19  \\\n",
       "0    -0.150063 -0.171128  0.124676  ... -0.108351 -0.077623 -0.009568   \n",
       "1    -0.222475 -0.207693  0.170883  ... -0.090974 -0.056510 -0.035303   \n",
       "2    -0.242234 -0.219153  0.232538  ... -0.050691 -0.023590 -0.066722   \n",
       "3    -0.194347 -0.098181  0.270375  ... -0.136009 -0.177037 -0.130498   \n",
       "4    -0.265423 -0.172700  0.266434  ... -0.048885 -0.053074 -0.088550   \n",
       "...        ...       ...       ...  ...       ...       ...       ...   \n",
       "7190 -0.100753  0.037087  0.081075  ...  0.069430  0.071001  0.021591   \n",
       "7191 -0.116460  0.063727  0.089034  ...  0.061127  0.068978  0.017745   \n",
       "7192 -0.103317  0.070370  0.081317  ...  0.082474  0.077771 -0.009688   \n",
       "7193 -0.115799  0.056979  0.089316  ...  0.051796  0.069073  0.017963   \n",
       "7194 -0.117672  0.058874  0.076180  ...  0.061455  0.072983 -0.003980   \n",
       "\n",
       "      MFCCs_20  MFCCs_21  MFCCs_22           Family      Genus  \\\n",
       "0     0.057684  0.118680  0.014038  Leptodactylidae  Adenomera   \n",
       "1     0.020140  0.082263  0.029056  Leptodactylidae  Adenomera   \n",
       "2    -0.025083  0.099108  0.077162  Leptodactylidae  Adenomera   \n",
       "3    -0.054766 -0.018691  0.023954  Leptodactylidae  Adenomera   \n",
       "4    -0.031346  0.108610  0.079244  Leptodactylidae  Adenomera   \n",
       "...        ...       ...       ...              ...        ...   \n",
       "7190  0.052449 -0.021860 -0.079860          Hylidae     Scinax   \n",
       "7191  0.046461 -0.015418 -0.101892          Hylidae     Scinax   \n",
       "7192  0.027834 -0.000531 -0.080425          Hylidae     Scinax   \n",
       "7193  0.041803 -0.027911 -0.096895          Hylidae     Scinax   \n",
       "7194  0.031560 -0.029355 -0.087910          Hylidae     Scinax   \n",
       "\n",
       "             Species  RecordID  \n",
       "0     AdenomeraAndre         1  \n",
       "1     AdenomeraAndre         1  \n",
       "2     AdenomeraAndre         1  \n",
       "3     AdenomeraAndre         1  \n",
       "4     AdenomeraAndre         1  \n",
       "...              ...       ...  \n",
       "7190     ScinaxRuber        60  \n",
       "7191     ScinaxRuber        60  \n",
       "7192     ScinaxRuber        60  \n",
       "7193     ScinaxRuber        60  \n",
       "7194     ScinaxRuber        60  \n",
       "\n",
       "[7195 rows x 26 columns]"
      ]
     },
     "execution_count": 6,
     "metadata": {},
     "output_type": "execute_result"
    }
   ],
   "source": [
    "import pandas as pd\n",
    "import numpy as np\n",
    "df = pd.read_csv('../data/Anuran Calls (MFCCs)/Frogs_MFCCs.csv', sep=',', header=0)\n",
    "df"
   ]
  },
  {
   "cell_type": "code",
   "execution_count": 7,
   "metadata": {},
   "outputs": [],
   "source": [
    "# Choose 70% of the data randomly as the training set\n",
    "from sklearn.model_selection import train_test_split\n",
    "train_df, test_df = train_test_split(df, test_size=0.3, train_size=0.7, random_state=1)\n",
    "train_df.index = range(len(train_df))\n",
    "test_df.index = range(len(test_df))"
   ]
  },
  {
   "cell_type": "markdown",
   "metadata": {},
   "source": [
    "## b. Binary relevance"
   ]
  },
  {
   "cell_type": "markdown",
   "metadata": {},
   "source": [
    "### i.Research exact match and hamming score/ loss methods for evaluating multi-label classification and use them in evaluating the classifiers in this problem"
   ]
  },
  {
   "cell_type": "markdown",
   "metadata": {},
   "source": [
    "Exact match: The predicted set of labels should exactly match with the true set of labels.\n",
    "Hamming loss: The fraction of the wrong labels to the total number of labels."
   ]
  },
  {
   "cell_type": "markdown",
   "metadata": {},
   "source": [
    "### ii. Train a SVM for each of the labels, using Gaussian kernels and one versus all classifiers"
   ]
  },
  {
   "cell_type": "code",
   "execution_count": 8,
   "metadata": {},
   "outputs": [],
   "source": [
    "from sklearn.multiclass import OneVsRestClassifier\n",
    "from sklearn.svm import SVC\n",
    "from sklearn.model_selection import GridSearchCV\n",
    "from sklearn.metrics import accuracy_score\n",
    "\n",
    "parameters = {'estimator__C':np.logspace(-2, 5, 8), 'estimator__gamma':np.linspace(0.1,2,20)}\n",
    "svc = OneVsRestClassifier(SVC(kernel='rbf'))"
   ]
  },
  {
   "cell_type": "code",
   "execution_count": 9,
   "metadata": {},
   "outputs": [
    {
     "name": "stdout",
     "output_type": "stream",
     "text": [
      "For 'Family' label:\n",
      "The best weight of the SVM penalty: 10.0\n",
      "The best width of the Gaussian Kernel: 1.9\n",
      "The accuracy for label 'Family': 0.9911996294580825\n"
     ]
    }
   ],
   "source": [
    "# label: Family (with raw attributes)\n",
    "clf_family = GridSearchCV(svc,parameters,cv=10).fit(train_df.iloc[:,:22], train_df.loc[:,'Family'])\n",
    "c_family = clf_family.best_params_['estimator__C']\n",
    "gamma_family = clf_family.best_params_['estimator__gamma']\n",
    "y_pred_family = clf_family.best_estimator_.predict(test_df.iloc[:,:22])\n",
    "\n",
    "print(\"For 'Family' label:\")\n",
    "print(\"The best weight of the SVM penalty:\", c_family)\n",
    "print(\"The best width of the Gaussian Kernel:\", gamma_family)\n",
    "\n",
    "accuracy_family = accuracy_score(test_df.loc[:,'Family'],y_pred_family)\n",
    "print(\"The accuracy for label 'Family':\", accuracy_family)"
   ]
  },
  {
   "cell_type": "code",
   "execution_count": 10,
   "metadata": {},
   "outputs": [
    {
     "name": "stdout",
     "output_type": "stream",
     "text": [
      "For 'Genus' label:\n",
      "The best weight of the SVM penalty: 100.0\n",
      "The best width of the Gaussian Kernel: 2.0\n",
      "The accuracy for label 'Genus': 0.9902732746641963\n"
     ]
    }
   ],
   "source": [
    "# label: Genus (with raw attributes)\n",
    "clf_genus = GridSearchCV(svc,parameters,cv=10).fit(train_df.iloc[:,:22], train_df.loc[:,'Genus'])\n",
    "c_genus = clf_genus.best_params_['estimator__C']\n",
    "gamma_genus = clf_genus.best_params_['estimator__gamma']\n",
    "y_pred_genus = clf_genus.best_estimator_.predict(test_df.iloc[:,:22])\n",
    "\n",
    "print(\"For 'Genus' label:\")\n",
    "print(\"The best weight of the SVM penalty:\", c_genus)\n",
    "print(\"The best width of the Gaussian Kernel:\", gamma_genus)\n",
    "\n",
    "accuracy_genus = accuracy_score(test_df.loc[:,'Genus'],y_pred_genus)\n",
    "print(\"The accuracy for label 'Genus':\", accuracy_genus)"
   ]
  },
  {
   "cell_type": "code",
   "execution_count": 11,
   "metadata": {},
   "outputs": [
    {
     "name": "stdout",
     "output_type": "stream",
     "text": [
      "For 'Species' label:\n",
      "The best weight of the SVM penalty: 10.0\n",
      "The best width of the Gaussian Kernel: 2.0\n",
      "The accuracy for label 'Species': 0.9907364520611394\n"
     ]
    }
   ],
   "source": [
    "# label: Species (with raw attributes)\n",
    "clf_species = GridSearchCV(svc,parameters,cv=10).fit(train_df.iloc[:,:22], train_df.loc[:,'Species'])\n",
    "c_species = clf_species.best_params_['estimator__C']\n",
    "gamma_species = clf_species.best_params_['estimator__gamma']\n",
    "y_pred_species = clf_species.best_estimator_.predict(test_df.iloc[:,:22])\n",
    "\n",
    "print(\"For 'Species' label:\")\n",
    "print(\"The best weight of the SVM penalty:\", c_species)\n",
    "print(\"The best width of the Gaussian Kernel:\", gamma_species)\n",
    "\n",
    "accuracy_species = accuracy_score(test_df.loc[:,'Species'],y_pred_species)\n",
    "print(\"The accuracy for label 'Species':\", accuracy_species)"
   ]
  },
  {
   "cell_type": "code",
   "execution_count": 12,
   "metadata": {},
   "outputs": [
    {
     "name": "stdout",
     "output_type": "stream",
     "text": [
      "For raw attributes:\n",
      "The exact match loss: 0.013432144511347888\n",
      "The hamming loss: 0.009263547938860583\n"
     ]
    }
   ],
   "source": [
    "# Exact Match (with raw attributes)\n",
    "y_pred_family = pd.DataFrame(y_pred_family)\n",
    "y_pred_genus = pd.DataFrame(y_pred_genus)\n",
    "y_pred_species = pd.DataFrame(y_pred_species)\n",
    "correct_samples = 0\n",
    "for i in range(len(test_df)):\n",
    "    if y_pred_family.values[i]== test_df['Family'][i] and y_pred_genus.values[i]== test_df['Genus'][i] and y_pred_species.values[i]==test_df['Species'][i]:\n",
    "        correct_samples+=1\n",
    "exact_match = correct_samples/len(test_df)\n",
    "exact_match_loss = 1 - exact_match\n",
    "print(\"For raw attributes:\")\n",
    "print(\"The exact match loss:\", exact_match_loss)\n",
    "# Hamming Loss (with raw attributes)\n",
    "from sklearn.metrics import hamming_loss\n",
    "hamming_loss_family = hamming_loss(test_df.loc[:,'Family'],y_pred_family)\n",
    "hamming_loss_genus = hamming_loss(test_df.loc[:,'Genus'], y_pred_genus)\n",
    "hamming_loss_species = hamming_loss(test_df.loc[:,'Species'], y_pred_species)\n",
    "hamming_loss1 = (hamming_loss_family+hamming_loss_genus+hamming_loss_species)/3\n",
    "print(\"The hamming loss:\", hamming_loss1)"
   ]
  },
  {
   "cell_type": "code",
   "execution_count": 13,
   "metadata": {},
   "outputs": [],
   "source": [
    "# Standardized attributes\n",
    "from sklearn.preprocessing import StandardScaler\n",
    "\n",
    "feature_names = []\n",
    "for i in range(1, 23):\n",
    "    if i < 10:\n",
    "        feature_name = 'MFCCs_ ' + str(i)\n",
    "    else:\n",
    "        feature_name = 'MFCCs_' + str(i)\n",
    "    feature_names.append(feature_name)\n",
    "\n",
    "scaler1 = StandardScaler()\n",
    "x_train_standard = scaler1.fit_transform(train_df.iloc[:,:22])\n",
    "x_train_standard = pd.DataFrame(x_train_standard, columns=feature_names)\n",
    "\n",
    "x_test_standard = scaler1.transform(test_df.iloc[:,:22]) # Can not fit on the test data\n",
    "x_test_standard = pd.DataFrame(x_test_standard, columns=feature_names)\n"
   ]
  },
  {
   "cell_type": "code",
   "execution_count": 14,
   "metadata": {},
   "outputs": [
    {
     "name": "stdout",
     "output_type": "stream",
     "text": [
      "For 'Family' label (with standardized attributes):\n",
      "The best weight of the SVM penalty: 10.0\n",
      "The best width of the Gaussian Kernel: 0.1\n",
      "The accuracy for label 'Family': 0.9898100972672533\n"
     ]
    }
   ],
   "source": [
    "# label: Family (with standardized attributes)\n",
    "clf_family_st = GridSearchCV(svc,parameters,cv=10).fit(x_train_standard, train_df.loc[:,'Family'])\n",
    "c_family_st = clf_family_st.best_params_['estimator__C']\n",
    "gamma_family_st = clf_family_st.best_params_['estimator__gamma']\n",
    "y_pred_family_st = clf_family_st.best_estimator_.predict(x_test_standard)\n",
    "\n",
    "print(\"For 'Family' label (with standardized attributes):\")\n",
    "print(\"The best weight of the SVM penalty:\", c_family_st)\n",
    "print(\"The best width of the Gaussian Kernel:\", gamma_family_st)\n",
    "\n",
    "accuracy_family_st = accuracy_score(test_df.loc[:,'Family'],y_pred_family_st)\n",
    "print(\"The accuracy for label 'Family':\", accuracy_family_st)"
   ]
  },
  {
   "cell_type": "code",
   "execution_count": 15,
   "metadata": {},
   "outputs": [
    {
     "name": "stdout",
     "output_type": "stream",
     "text": [
      "For 'Genus' label (with standardized attributes):\n",
      "The best weight of the SVM penalty: 100.0\n",
      "The best width of the Gaussian Kernel: 0.1\n",
      "The accuracy for label 'Genus': 0.9874942102825383\n"
     ]
    }
   ],
   "source": [
    "# label: Genus (with standardized attributes)\n",
    "clf_genus_st = GridSearchCV(svc,parameters,cv=10).fit(x_train_standard, train_df.loc[:,'Genus'])\n",
    "c_genus_st = clf_genus_st.best_params_['estimator__C']\n",
    "gamma_genus_st = clf_genus_st.best_params_['estimator__gamma']\n",
    "y_pred_genus_st = clf_genus_st.best_estimator_.predict(x_test_standard)\n",
    "\n",
    "print(\"For 'Genus' label (with standardized attributes):\")\n",
    "print(\"The best weight of the SVM penalty:\", c_genus_st)\n",
    "print(\"The best width of the Gaussian Kernel:\", gamma_genus_st)\n",
    "\n",
    "accuracy_genus_st = accuracy_score(test_df.loc[:,'Genus'],y_pred_genus_st)\n",
    "print(\"The accuracy for label 'Genus':\", accuracy_genus_st)"
   ]
  },
  {
   "cell_type": "code",
   "execution_count": 16,
   "metadata": {},
   "outputs": [
    {
     "name": "stdout",
     "output_type": "stream",
     "text": [
      "For 'Species' label (with standardized attributes):\n",
      "The best weight of the SVM penalty: 10.0\n",
      "The best width of the Gaussian Kernel: 0.1\n",
      "The accuracy for label 'Species': 0.9870310328855951\n"
     ]
    }
   ],
   "source": [
    "# label: Species (with standardized attributes)\n",
    "clf_species_st = GridSearchCV(svc,parameters,cv=10).fit(x_train_standard, train_df.loc[:,'Species'])\n",
    "c_species_st = clf_species_st.best_params_['estimator__C']\n",
    "gamma_species_st = clf_species_st.best_params_['estimator__gamma']\n",
    "y_pred_species_st = clf_species_st.best_estimator_.predict(x_test_standard)\n",
    "\n",
    "print(\"For 'Species' label (with standardized attributes):\")\n",
    "print(\"The best weight of the SVM penalty:\", c_species_st)\n",
    "print(\"The best width of the Gaussian Kernel:\", gamma_species_st)\n",
    "\n",
    "accuracy_species_st = accuracy_score(test_df.loc[:,'Species'],y_pred_species_st)\n",
    "print(\"The accuracy for label 'Species':\", accuracy_species_st)"
   ]
  },
  {
   "cell_type": "code",
   "execution_count": 17,
   "metadata": {},
   "outputs": [
    {
     "name": "stdout",
     "output_type": "stream",
     "text": [
      "For standardized attributes:\n",
      "The exact match loss: 0.01621120889300598\n",
      "The hamming loss: 0.011888219854871082\n"
     ]
    }
   ],
   "source": [
    "# Exact Match (with standardized attributes)\n",
    "correct_samples_st = 0\n",
    "for i in range(len(test_df)):\n",
    "    if y_pred_family_st[i]== test_df['Family'][i] and y_pred_genus_st[i]== test_df['Genus'][i] and y_pred_species_st[i]==test_df['Species'][i]:\n",
    "        correct_samples_st+=1\n",
    "exact_match_st = correct_samples_st/len(test_df)\n",
    "exact_match_loss_st = 1 - exact_match_st\n",
    "print(\"For standardized attributes:\")\n",
    "print(\"The exact match loss:\", exact_match_loss_st)\n",
    "# Hamming Loss (with standardized attributes)\n",
    "hamming_loss_family_st = hamming_loss(test_df.loc[:,'Family'],y_pred_family_st)\n",
    "hamming_loss_genus_st = hamming_loss(test_df.loc[:,'Genus'], y_pred_genus_st)\n",
    "hamming_loss_species_st = hamming_loss(test_df.loc[:,'Species'], y_pred_species_st)\n",
    "hamming_loss_st = (hamming_loss_family_st+hamming_loss_genus_st+hamming_loss_species_st)/3\n",
    "print(\"The hamming loss:\", hamming_loss_st)"
   ]
  },
  {
   "cell_type": "markdown",
   "metadata": {},
   "source": [
    "### iii. Repeat 1(b)ii with L1-penalized SVMs. Remember to standardize the attributes. Determine the weight of the SVM penalty using 10 fold cross validation"
   ]
  },
  {
   "cell_type": "code",
   "execution_count": 18,
   "metadata": {},
   "outputs": [
    {
     "name": "stdout",
     "output_type": "stream",
     "text": [
      "For 'Family' label (with standardized attributes):\n",
      "The best weight of the SVM penalty: 1.0\n",
      "The accuracy for label 'Family': 0.9337656322371468\n"
     ]
    }
   ],
   "source": [
    "from sklearn.svm import LinearSVC\n",
    "parameters2 = {'C':np.logspace(-3, 6, 10)}\n",
    "\n",
    "svc2 = LinearSVC(penalty='l1', loss='squared_hinge', dual=False, multi_class='ovr', max_iter=5000)\n",
    "\n",
    "# label: Family\n",
    "clf_family2 = GridSearchCV(svc2,parameters2,cv=10).fit(x_train_standard, train_df.loc[:,'Family'])\n",
    "c_family2 = clf_family2.best_params_['C']\n",
    "y_pred_family2 = clf_family2.best_estimator_.predict(x_test_standard)\n",
    "\n",
    "print(\"For 'Family' label (with standardized attributes):\")\n",
    "print(\"The best weight of the SVM penalty:\", c_family2)\n",
    "\n",
    "accuracy_family_l1 = accuracy_score(test_df.loc[:,'Family'],y_pred_family2)\n",
    "print(\"The accuracy for label 'Family':\", accuracy_family_l1)\n"
   ]
  },
  {
   "cell_type": "code",
   "execution_count": 19,
   "metadata": {},
   "outputs": [
    {
     "name": "stdout",
     "output_type": "stream",
     "text": [
      "For 'Genus' label (with standardized attributes):\n",
      "The best weight of the SVM penalty: 100.0\n",
      "The accuracy for label 'Genus': 0.9476609541454377\n"
     ]
    }
   ],
   "source": [
    "# label: Genus\n",
    "clf_genus2 = GridSearchCV(svc2,parameters2,cv=10).fit(x_train_standard, train_df.loc[:,'Genus'])\n",
    "c_genus2 = clf_genus2.best_params_['C']\n",
    "y_pred_genus2 = clf_genus2.best_estimator_.predict(x_test_standard)\n",
    "\n",
    "print(\"For 'Genus' label (with standardized attributes):\")\n",
    "print(\"The best weight of the SVM penalty:\", c_genus2)\n",
    "\n",
    "accuracy_genus_l1 = accuracy_score(test_df.loc[:,'Genus'],y_pred_genus2)\n",
    "print(\"The accuracy for label 'Genus':\", accuracy_genus_l1)"
   ]
  },
  {
   "cell_type": "code",
   "execution_count": 20,
   "metadata": {},
   "outputs": [
    {
     "name": "stdout",
     "output_type": "stream",
     "text": [
      "For 'Species' label (with standardized attributes):\n",
      "The best weight of the SVM penalty: 1.0\n",
      "The accuracy for label 'Species': 0.9550717924965262\n"
     ]
    }
   ],
   "source": [
    "# label: Species\n",
    "clf_species2 = GridSearchCV(svc2,parameters2,cv=10).fit(x_train_standard, train_df.loc[:,'Species'])\n",
    "c_species2 = clf_species2.best_params_['C']\n",
    "y_pred_species2 = clf_species2.best_estimator_.predict(x_test_standard)\n",
    "\n",
    "print(\"For 'Species' label (with standardized attributes):\")\n",
    "print(\"The best weight of the SVM penalty:\", c_species2)\n",
    "\n",
    "accuracy_species_l1 = accuracy_score(test_df.loc[:,'Species'],y_pred_species2)\n",
    "print(\"The accuracy for label 'Species':\", accuracy_species_l1)"
   ]
  },
  {
   "cell_type": "code",
   "execution_count": 21,
   "metadata": {},
   "outputs": [
    {
     "name": "stdout",
     "output_type": "stream",
     "text": [
      "For L1-penalized SVM with standardized attributes:\n",
      "The exact match loss: 0.08661417322834641\n",
      "The hamming loss: 0.05450054037362976\n"
     ]
    }
   ],
   "source": [
    "# L1-penalized SVM- Exact Match (with standardized attributes)\n",
    "correct_samples2 = 0\n",
    "for i in range(len(test_df)):\n",
    "    if y_pred_family2[i]== test_df['Family'][i] and y_pred_genus2[i]== test_df['Genus'][i] and y_pred_species2[i]==test_df['Species'][i]:\n",
    "        correct_samples2+=1\n",
    "exact_match2 = correct_samples2/len(test_df)\n",
    "exact_match_loss2 = 1 - exact_match2\n",
    "print(\"For L1-penalized SVM with standardized attributes:\")\n",
    "print(\"The exact match loss:\", exact_match_loss2)\n",
    "# L1-penalized SVM- Hamming Loss (with standardized attributes)\n",
    "hamming_loss_family2 = hamming_loss(test_df.loc[:,'Family'],y_pred_family2)\n",
    "hamming_loss_genus2 = hamming_loss(test_df.loc[:,'Genus'], y_pred_genus2)\n",
    "hamming_loss_species2 = hamming_loss(test_df.loc[:,'Species'], y_pred_species2)\n",
    "hamming_loss2 = (hamming_loss_family2+hamming_loss_genus2+hamming_loss_species2)/3\n",
    "print(\"The hamming loss:\", hamming_loss2)"
   ]
  },
  {
   "cell_type": "markdown",
   "metadata": {},
   "source": [
    "### iv. Repeat 1(b)iii by using SMOTE or any other method you know to remedy class imbalance. Report your conclusions about the classifiers you trained."
   ]
  },
  {
   "cell_type": "code",
   "execution_count": 22,
   "metadata": {},
   "outputs": [],
   "source": [
    "# SMOTE\n",
    "from imblearn.over_sampling import SMOTE\n",
    "from sklearn.model_selection import StratifiedKFold\n",
    "def find_c_smote(label):\n",
    "    skf = StratifiedKFold(n_splits=10, shuffle=True, random_state=1)\n",
    "    sm = SMOTE(sampling_strategy='minority', random_state=1, k_neighbors=5)\n",
    "    accs = []\n",
    "    for train_index, test_index in skf.split(train_df.iloc[:,:22], train_df.loc[:,label]):\n",
    "        x_re, y_re = sm.fit_resample(train_df.iloc[:,:22].iloc[train_index], train_df.loc[:,label].iloc[train_index])\n",
    "        scaler2 = StandardScaler()\n",
    "        x_re_standard = scaler2.fit_transform(x_re)\n",
    "        x_re_standard = pd.DataFrame(x_re_standard, columns=feature_names)\n",
    "        x_test_re_standard = scaler2.transform(train_df.iloc[:,:22].iloc[test_index]) # Can not fit on the test data\n",
    "        x_test_re_standard = pd.DataFrame(x_test_re_standard, columns=feature_names)\n",
    "    \n",
    "        acc_per_split = []\n",
    "        for c in np.logspace(-3, 6, 10):\n",
    "            svc_re = LinearSVC(C=c, penalty='l1', loss='squared_hinge', dual=False, multi_class='ovr', max_iter=7000).fit(x_re_standard, y_re)\n",
    "            y_pred_re_family = svc_re.predict(x_test_re_standard)\n",
    "            acc_family = accuracy_score(train_df.loc[:,label].iloc[test_index],y_pred_re_family)\n",
    "            acc_per_split.append(acc_family)\n",
    "        accs.append(acc_per_split)\n",
    "    avg_accs = []\n",
    "    for j in range(len(np.logspace(-3, 6, 10))):\n",
    "        sum_acc_per_c = 0\n",
    "        for i in range(len(accs)):\n",
    "            sum_acc_per_c += accs[i][j]\n",
    "        acc_per_c = sum_acc_per_c/len(accs)\n",
    "        avg_accs.append(acc_per_c)\n",
    "    best_ind = avg_accs.index(max(avg_accs))\n",
    "    best_c = np.logspace(-3, 6, 10)[best_ind]\n",
    "    return best_c"
   ]
  },
  {
   "cell_type": "code",
   "execution_count": 23,
   "metadata": {},
   "outputs": [],
   "source": [
    "# Find best C for each classifier\n",
    "c_smote_family = find_c_smote('Family')\n",
    "c_smote_genus = find_c_smote('Genus')\n",
    "c_smote_species = find_c_smote('Species')"
   ]
  },
  {
   "cell_type": "code",
   "execution_count": 24,
   "metadata": {},
   "outputs": [
    {
     "name": "stdout",
     "output_type": "stream",
     "text": [
      "For 'Family' label, the best weight of the SVM penalty: 1.0\n",
      "For 'Genus' label, the best weight of the SVM penalty: 10.0\n",
      "For 'Species' label, the best weight of the SVM penalty: 1.0\n"
     ]
    }
   ],
   "source": [
    "print(\"For 'Family' label, the best weight of the SVM penalty:\", c_smote_family)\n",
    "print(\"For 'Genus' label, the best weight of the SVM penalty:\", c_smote_genus)\n",
    "print(\"For 'Species' label, the best weight of the SVM penalty:\", c_smote_species)"
   ]
  },
  {
   "cell_type": "code",
   "execution_count": 25,
   "metadata": {},
   "outputs": [
    {
     "name": "stdout",
     "output_type": "stream",
     "text": [
      "The accuracy for label 'Family' after SMOTE: 0.9300602130616026\n"
     ]
    }
   ],
   "source": [
    "# Re-train. Label: Family\n",
    "sm1 = SMOTE(sampling_strategy='minority', random_state=1, k_neighbors=5)\n",
    "x_re_family, y_re_family= sm1.fit_resample(train_df.iloc[:,:22], train_df.loc[:,'Family'])\n",
    "\n",
    "scaler31 = StandardScaler()\n",
    "x_re_family_st = scaler31.fit_transform(x_re_family)\n",
    "x_re_family_st = pd.DataFrame(x_re_family_st, columns=feature_names)\n",
    "x_test_re_family_st = scaler31.transform(test_df.iloc[:,:22]) # Can not fit on the test data\n",
    "x_test_re_family_st = pd.DataFrame(x_test_re_family_st, columns=feature_names)\n",
    "\n",
    "svc31 = LinearSVC(C=c_smote_family, penalty='l1', loss='squared_hinge', dual=False, multi_class='ovr', max_iter=5000).fit(x_re_family_st, y_re_family)\n",
    "y_pred31 = svc31.predict(x_test_re_family_st)\n",
    "acc31 = accuracy_score(test_df.loc[:,'Family'],y_pred31)\n",
    "print(\"The accuracy for label 'Family' after SMOTE:\", acc31)"
   ]
  },
  {
   "cell_type": "code",
   "execution_count": 26,
   "metadata": {},
   "outputs": [
    {
     "name": "stdout",
     "output_type": "stream",
     "text": [
      "The accuracy for label 'Genus' after SMOTE: 0.9421028253821213\n"
     ]
    }
   ],
   "source": [
    "# Re-train. Label: Genus\n",
    "sm2 = SMOTE(sampling_strategy='minority', random_state=1, k_neighbors=5)\n",
    "x_re_genus, y_re_genus= sm2.fit_resample(train_df.iloc[:,:22], train_df.loc[:,'Genus'])\n",
    "\n",
    "scaler32 = StandardScaler()\n",
    "x_re_genus_st = scaler32.fit_transform(x_re_genus)\n",
    "x_re_genus_st = pd.DataFrame(x_re_genus_st, columns=feature_names)\n",
    "x_test_re_genus_st = scaler32.transform(test_df.iloc[:,:22]) # Can not fit on the test data\n",
    "x_test_re_genus_st = pd.DataFrame(x_test_re_genus_st, columns=feature_names)\n",
    "\n",
    "svc32 = LinearSVC(C=c_smote_genus, penalty='l1', loss='squared_hinge', dual=False, multi_class='ovr', max_iter=5000).fit(x_re_genus_st, y_re_genus)\n",
    "y_pred32 = svc32.predict(x_test_re_genus_st)\n",
    "acc32 = accuracy_score(test_df.loc[:,'Genus'],y_pred32)\n",
    "print(\"The accuracy for label 'Genus' after SMOTE:\", acc32)"
   ]
  },
  {
   "cell_type": "code",
   "execution_count": 27,
   "metadata": {},
   "outputs": [
    {
     "name": "stdout",
     "output_type": "stream",
     "text": [
      "The accuracy for label 'Species' after SMOTE: 0.9499768411301528\n"
     ]
    }
   ],
   "source": [
    "# Re-train. Label: Species\n",
    "sm3 = SMOTE(sampling_strategy='minority', random_state=1, k_neighbors=5)\n",
    "x_re_species, y_re_species= sm3.fit_resample(train_df.iloc[:,:22], train_df.loc[:,'Species'])\n",
    "\n",
    "scaler33 = StandardScaler()\n",
    "x_re_species_st = scaler33.fit_transform(x_re_species)\n",
    "x_re_species_st = pd.DataFrame(x_re_species_st, columns=feature_names)\n",
    "x_test_re_species_st = scaler33.transform(test_df.iloc[:,:22]) # Can not fit on the test data\n",
    "x_test_re_species_st = pd.DataFrame(x_test_re_species_st, columns=feature_names)\n",
    "\n",
    "svc33 = LinearSVC(C=c_smote_species, penalty='l1', loss='squared_hinge', dual=False, multi_class='ovr', max_iter=5000).fit(x_re_species_st, y_re_species)\n",
    "y_pred33 = svc33.predict(x_test_re_species_st)\n",
    "acc33 = accuracy_score(test_df.loc[:,'Species'],y_pred33)\n",
    "print(\"The accuracy for label 'Species' after SMOTE:\", acc33)"
   ]
  },
  {
   "cell_type": "code",
   "execution_count": 28,
   "metadata": {},
   "outputs": [
    {
     "name": "stdout",
     "output_type": "stream",
     "text": [
      "For L1-penalized SVM after SMOTE:\n",
      "The exact match loss: 0.08846688281611859\n",
      "The hamming loss: 0.059286706808707734\n"
     ]
    }
   ],
   "source": [
    "# Exact Match (after SMOTE)\n",
    "correct_samples3 = 0\n",
    "for i in range(len(test_df)):\n",
    "    if y_pred31[i]== test_df['Family'][i] and y_pred32[i]== test_df['Genus'][i] and y_pred33[i]==test_df['Species'][i]:\n",
    "        correct_samples3+=1\n",
    "exact_match3 = correct_samples3/len(test_df)\n",
    "exact_match_loss3 = 1 - exact_match3\n",
    "print(\"For L1-penalized SVM after SMOTE:\")\n",
    "print(\"The exact match loss:\", exact_match_loss3)\n",
    "# Hamming Loss (after SMOTE)\n",
    "hamming_loss_family3 = hamming_loss(test_df.loc[:,'Family'],y_pred31)\n",
    "hamming_loss_genus3 = hamming_loss(test_df.loc[:,'Genus'], y_pred32)\n",
    "hamming_loss_species3 = hamming_loss(test_df.loc[:,'Species'], y_pred33)\n",
    "hamming_loss3 = (hamming_loss_family3+hamming_loss_genus3+hamming_loss_species3)/3\n",
    "print(\"The hamming loss:\", hamming_loss3)"
   ]
  },
  {
   "cell_type": "code",
   "execution_count": 30,
   "metadata": {},
   "outputs": [
    {
     "data": {
      "text/html": [
       "<div>\n",
       "<style scoped>\n",
       "    .dataframe tbody tr th:only-of-type {\n",
       "        vertical-align: middle;\n",
       "    }\n",
       "\n",
       "    .dataframe tbody tr th {\n",
       "        vertical-align: top;\n",
       "    }\n",
       "\n",
       "    .dataframe thead th {\n",
       "        text-align: right;\n",
       "    }\n",
       "</style>\n",
       "<table border=\"1\" class=\"dataframe\">\n",
       "  <thead>\n",
       "    <tr style=\"text-align: right;\">\n",
       "      <th></th>\n",
       "      <th>Model</th>\n",
       "      <th>Exact Match Loss</th>\n",
       "      <th>Hamming Loss</th>\n",
       "    </tr>\n",
       "  </thead>\n",
       "  <tbody>\n",
       "    <tr>\n",
       "      <th>0</th>\n",
       "      <td>Gaussian Kernel SVM (OVA)</td>\n",
       "      <td>0.013432</td>\n",
       "      <td>0.009264</td>\n",
       "    </tr>\n",
       "    <tr>\n",
       "      <th>1</th>\n",
       "      <td>Gaussian Kernel SVM (OVA)(Standardized Attribu...</td>\n",
       "      <td>0.016211</td>\n",
       "      <td>0.011888</td>\n",
       "    </tr>\n",
       "    <tr>\n",
       "      <th>2</th>\n",
       "      <td>L1-penalized SVM</td>\n",
       "      <td>0.086614</td>\n",
       "      <td>0.054501</td>\n",
       "    </tr>\n",
       "    <tr>\n",
       "      <th>3</th>\n",
       "      <td>L1-penalized SVM (SMOTE)</td>\n",
       "      <td>0.088467</td>\n",
       "      <td>0.059287</td>\n",
       "    </tr>\n",
       "  </tbody>\n",
       "</table>\n",
       "</div>"
      ],
      "text/plain": [
       "                                               Model  Exact Match Loss  \\\n",
       "0                          Gaussian Kernel SVM (OVA)          0.013432   \n",
       "1  Gaussian Kernel SVM (OVA)(Standardized Attribu...          0.016211   \n",
       "2                                   L1-penalized SVM          0.086614   \n",
       "3                           L1-penalized SVM (SMOTE)          0.088467   \n",
       "\n",
       "   Hamming Loss  \n",
       "0      0.009264  \n",
       "1      0.011888  \n",
       "2      0.054501  \n",
       "3      0.059287  "
      ]
     },
     "execution_count": 30,
     "metadata": {},
     "output_type": "execute_result"
    }
   ],
   "source": [
    "# Compare the results\n",
    "dic_compare = {}\n",
    "dic_compare['Model'] = ['Gaussian Kernel SVM (OVA)', 'Gaussian Kernel SVM (OVA)(Standardized Attributes)', 'L1-penalized SVM','L1-penalized SVM (SMOTE)']\n",
    "dic_compare['Exact Match Loss'] = [exact_match_loss, exact_match_loss_st, exact_match_loss2, exact_match_loss3]\n",
    "dic_compare['Hamming Loss'] = [hamming_loss1, hamming_loss_st, hamming_loss2, hamming_loss3]\n",
    "df_compare = pd.DataFrame(dic_compare)\n",
    "df_compare\n"
   ]
  },
  {
   "cell_type": "markdown",
   "metadata": {},
   "source": [
    "# 2. K-Means Clustering on a Multi-Class and Multi-Label Data Set"
   ]
  },
  {
   "cell_type": "markdown",
   "metadata": {},
   "source": [
    "## a.b.c. Use k-means clustering on the whole Anuran Calls (MFCCs) Data Set. Choose k ∈ {1,2, . . . ,50} automatically based on Silhouettes. In each cluster, determine which family is the majority by reading the true labels. Repeat for genus and species. Calculate the average Hamming distance, Hamming score, and Hamming loss between the true labels and the labels assigned by clusters."
   ]
  },
  {
   "cell_type": "code",
   "execution_count": 31,
   "metadata": {},
   "outputs": [
    {
     "name": "stdout",
     "output_type": "stream",
     "text": [
      "For 50 iterations, the k chosen based on Silhouettes:\n",
      "{'iteration1': 4, 'iteration2': 4, 'iteration3': 4, 'iteration4': 4, 'iteration5': 4, 'iteration6': 4, 'iteration7': 4, 'iteration8': 4, 'iteration9': 4, 'iteration10': 4, 'iteration11': 4, 'iteration12': 4, 'iteration13': 4, 'iteration14': 4, 'iteration15': 4, 'iteration16': 4, 'iteration17': 4, 'iteration18': 4, 'iteration19': 4, 'iteration20': 4, 'iteration21': 4, 'iteration22': 4, 'iteration23': 4, 'iteration24': 4, 'iteration25': 4, 'iteration26': 4, 'iteration27': 4, 'iteration28': 4, 'iteration29': 4, 'iteration30': 4, 'iteration31': 4, 'iteration32': 4, 'iteration33': 4, 'iteration34': 4, 'iteration35': 4, 'iteration36': 4, 'iteration37': 4, 'iteration38': 4, 'iteration39': 4, 'iteration40': 4, 'iteration41': 4, 'iteration42': 4, 'iteration43': 4, 'iteration44': 4, 'iteration45': 4, 'iteration46': 4, 'iteration47': 4, 'iteration48': 4, 'iteration49': 4, 'iteration50': 4}\n",
      "---------------------------------------------------------------------------------\n",
      "The majority Family, Genus, and Species:\n",
      "     Iteration  Cluster           Family      Genus                 Species\n",
      "0            1        0  Leptodactylidae  Adenomera  AdenomeraHylaedactylus\n",
      "1            1        1          Hylidae  Hypsiboas    HypsiboasCinerascens\n",
      "2            1        2    Dendrobatidae   Ameerega      Ameeregatrivittata\n",
      "3            1        3          Hylidae  Hypsiboas       HypsiboasCordobae\n",
      "4            2        0          Hylidae  Hypsiboas    HypsiboasCinerascens\n",
      "..         ...      ...              ...        ...                     ...\n",
      "195         49        3          Hylidae  Hypsiboas    HypsiboasCinerascens\n",
      "196         50        0  Leptodactylidae  Adenomera  AdenomeraHylaedactylus\n",
      "197         50        1          Hylidae  Hypsiboas       HypsiboasCordobae\n",
      "198         50        2          Hylidae  Hypsiboas    HypsiboasCinerascens\n",
      "199         50        3  Leptodactylidae  Adenomera          AdenomeraAndre\n",
      "\n",
      "[200 rows x 5 columns]\n",
      "---------------------------------------------------------------------------------\n",
      "    Iteration  Hamming Distance  Hamming Loss  Hamming Score\n",
      "0           1              4801      0.222423       0.777577\n",
      "1           2              4801      0.222423       0.777577\n",
      "2           3              4790      0.221913       0.778087\n",
      "3           4              5045      0.233727       0.766273\n",
      "4           5              4801      0.222423       0.777577\n",
      "5           6              4801      0.222423       0.777577\n",
      "6           7              4795      0.222145       0.777855\n",
      "7           8              4801      0.222423       0.777577\n",
      "8           9              4801      0.222423       0.777577\n",
      "9          10              4801      0.222423       0.777577\n",
      "10         11              4798      0.222284       0.777716\n",
      "11         12              5043      0.233634       0.766366\n",
      "12         13              4801      0.222423       0.777577\n",
      "13         14              4798      0.222284       0.777716\n",
      "14         15              5294      0.245263       0.754737\n",
      "15         16              4801      0.222423       0.777577\n",
      "16         17              4801      0.222423       0.777577\n",
      "17         18              5291      0.245124       0.754876\n",
      "18         19              4801      0.222423       0.777577\n",
      "19         20              4801      0.222423       0.777577\n",
      "20         21              4801      0.222423       0.777577\n",
      "21         22              4801      0.222423       0.777577\n",
      "22         23              4801      0.222423       0.777577\n",
      "23         24              5291      0.245124       0.754876\n",
      "24         25              4790      0.221913       0.778087\n",
      "25         26              4801      0.222423       0.777577\n",
      "26         27              4801      0.222423       0.777577\n",
      "27         28              4801      0.222423       0.777577\n",
      "28         29              4801      0.222423       0.777577\n",
      "29         30              4801      0.222423       0.777577\n",
      "30         31              4801      0.222423       0.777577\n",
      "31         32              4801      0.222423       0.777577\n",
      "32         33              4801      0.222423       0.777577\n",
      "33         34              4801      0.222423       0.777577\n",
      "34         35              4801      0.222423       0.777577\n",
      "35         36              4801      0.222423       0.777577\n",
      "36         37              4790      0.221913       0.778087\n",
      "37         38              4801      0.222423       0.777577\n",
      "38         39              4801      0.222423       0.777577\n",
      "39         40              4801      0.222423       0.777577\n",
      "40         41              4801      0.222423       0.777577\n",
      "41         42              4801      0.222423       0.777577\n",
      "42         43              4801      0.222423       0.777577\n",
      "43         44              4801      0.222423       0.777577\n",
      "44         45              4801      0.222423       0.777577\n",
      "45         46              4801      0.222423       0.777577\n",
      "46         47              4801      0.222423       0.777577\n",
      "47         48              4801      0.222423       0.777577\n",
      "48         49              4801      0.222423       0.777577\n",
      "49         50              5052      0.234051       0.765949\n",
      "The average of the 50 Hamming Distance: 4844.3\n",
      "The standard deviation of the 50 Hamming Distance: 127.3595304639586\n",
      "The average of the 50 Hamming Score: 0.7755709983785034\n",
      "The standard deviation of the 50 Hamming Score: 0.005900372039099299\n",
      "The average of the 50 Hamming Loss: 0.22442900162149637\n",
      "The standard deviation of the 50 Hamming Loss: 0.0059003720390993055\n"
     ]
    }
   ],
   "source": [
    "from sklearn.cluster import KMeans\n",
    "from sklearn.metrics import silhouette_score\n",
    "dic_best_silhouette = {}\n",
    "labels_50_times = [0]\n",
    "dic_output = {}\n",
    "dic_output['Iteration'] = []\n",
    "dic_output['Cluster'] = []\n",
    "dic_output['Family'] = []\n",
    "dic_output['Genus'] = []\n",
    "dic_output['Species'] = []\n",
    "hamming_distance_50 = []\n",
    "hamming_loss_50 = []\n",
    "hamming_score_50 = []\n",
    "for ite in range(1,51):\n",
    "    dic_silhouette = {}\n",
    "    models_per = [0,1]\n",
    "    for i in range(1,51):\n",
    "        if i == 1:\n",
    "            pass\n",
    "        else:\n",
    "            kmeans = KMeans(n_clusters=i, init='k-means++').fit(df.iloc[:,:22])\n",
    "            models_per.append(kmeans)\n",
    "            dic_silhouette[i] = silhouette_score(df.iloc[:,:22], labels=kmeans.labels_)\n",
    "    sorted_silhouette = sorted(dic_silhouette.items(), key=lambda x:x[1], reverse=True)\n",
    "    model_best_k = models_per[sorted_silhouette[0][0]]\n",
    "    labels_50_times.append(model_best_k.labels_) #labels_50_times[1] means iteration1's labels\n",
    "    dic_best_silhouette['iteration'+str(ite)] = sorted_silhouette[0][0]\n",
    "\n",
    "    hamming_distance_per_ite1 = []\n",
    "    hamming_distance_per_ite2 = []\n",
    "    hamming_distance_per_ite3 = []\n",
    "    for i in range(sorted_silhouette[0][0]): \n",
    "        family_dic = {}\n",
    "        genus_dic = {}\n",
    "        species_dic = {}\n",
    "        for j in range(len(df)):\n",
    "            if model_best_k.labels_[j] == i:\n",
    "                family_dic[df.loc[:,'Family'][j]] = family_dic.get(df.loc[:,'Family'][j], 0) + 1\n",
    "                genus_dic[df.loc[:,'Genus'][j]] = genus_dic.get(df.loc[:,'Genus'][j],0) + 1\n",
    "                species_dic[df.loc[:,'Species'][j]] = species_dic.get(df.loc[:,'Species'][j],0) + 1\n",
    "        sorted_family_dic = sorted(family_dic.items(), key=lambda x:x[1], reverse=True)\n",
    "        sorted_genus_dic = sorted(genus_dic.items(), key=lambda x:x[1], reverse=True)\n",
    "        sorted_species_dic = sorted(species_dic.items(), key=lambda x:x[1], reverse=True)\n",
    "        count1_per_cluster = 0\n",
    "        count2_per_cluster = 0\n",
    "        count3_per_cluster = 0\n",
    "        for j in range(len(df)):\n",
    "            if model_best_k.labels_[j] == i:\n",
    "                if df.loc[:,'Family'][j] != sorted_family_dic[0][0]:\n",
    "                    count1_per_cluster+=1\n",
    "                if df.loc[:,'Genus'][j] != sorted_genus_dic[0][0]:\n",
    "                    count2_per_cluster+=1\n",
    "                if df.loc[:,'Species'][j] != sorted_species_dic[0][0]:\n",
    "                    count3_per_cluster+=1           \n",
    "        hamming_distance_per_ite1.append(count1_per_cluster)\n",
    "        hamming_distance_per_ite2.append(count2_per_cluster)\n",
    "        hamming_distance_per_ite3.append(count3_per_cluster)\n",
    "\n",
    "        dic_output['Iteration'].append(ite)\n",
    "        dic_output['Cluster'].append(i)\n",
    "        dic_output['Family'].append(sorted_family_dic[0][0])\n",
    "        dic_output['Genus'].append(sorted_genus_dic[0][0])\n",
    "        dic_output['Species'].append(sorted_species_dic[0][0])\n",
    "    hamming_distance1 = sum(hamming_distance_per_ite1)\n",
    "    hamming_distance2 = sum(hamming_distance_per_ite2)\n",
    "    hamming_distance3 = sum(hamming_distance_per_ite3)\n",
    "    hamming_distance_all = hamming_distance1+hamming_distance2+hamming_distance3\n",
    "    hamming_loss_all = hamming_distance_all/(len(df)*3)\n",
    "    hamming_score_all = 1 - hamming_loss_all\n",
    "\n",
    "    hamming_distance_50.append(hamming_distance_all)\n",
    "    hamming_loss_50.append(hamming_loss_all)\n",
    "    hamming_score_50.append(hamming_score_all)\n",
    "print('For 50 iterations, the k chosen based on Silhouettes:')\n",
    "print(dic_best_silhouette)\n",
    "print('---------------------------------------------------------------------------------')\n",
    "print('The majority Family, Genus, and Species:')\n",
    "df_output = pd.DataFrame(dic_output)\n",
    "print(df_output)\n",
    "hamming_distance_mean = np.mean(hamming_distance_50)\n",
    "hamming_distance_std = np.std(hamming_distance_50)\n",
    "hamming_loss_mean = np.mean(hamming_loss_50)\n",
    "hamming_loss_std = np.std(hamming_loss_50)\n",
    "hamming_score_mean = np.mean(hamming_score_50)\n",
    "hamming_score_std = np.std(hamming_score_50)\n",
    "hamming_result = {}\n",
    "hamming_result['Iteration'] = list(range(1,51))\n",
    "hamming_result['Hamming Distance'] = hamming_distance_50\n",
    "hamming_result['Hamming Loss'] = hamming_loss_50\n",
    "hamming_result['Hamming Score'] = hamming_score_50\n",
    "hamming_result_df = pd.DataFrame(hamming_result)\n",
    "print('---------------------------------------------------------------------------------')\n",
    "print(hamming_result_df)\n",
    "print('The average of the 50 Hamming Distance:', hamming_distance_mean)\n",
    "print('The standard deviation of the 50 Hamming Distance:', hamming_distance_std)\n",
    "print('The average of the 50 Hamming Score:', hamming_score_mean)\n",
    "print('The standard deviation of the 50 Hamming Score:', hamming_score_std)\n",
    "print('The average of the 50 Hamming Loss:', hamming_loss_mean)\n",
    "print('The standard deviation of the 50 Hamming Loss:', hamming_loss_std)"
   ]
  },
  {
   "cell_type": "markdown",
   "metadata": {},
   "source": [
    "# 3. ISLR 12.6.2"
   ]
  },
  {
   "attachments": {
    "IMG_0555.jpg": {
     "image/jpeg": "[encoded data removed]"
    }
   },
   "cell_type": "markdown",
   "metadata": {},
   "source": [
    "![IMG_0555.jpg](attachment:IMG_0555.jpg)"
   ]
  }
 ],
 "metadata": {
  "kernelspec": {
   "display_name": "Python 3 (ipykernel)",
   "language": "python",
   "name": "python3"
  },
  "language_info": {
   "codemirror_mode": {
    "name": "ipython",
    "version": 3
   },
   "file_extension": ".py",
   "mimetype": "text/x-python",
   "name": "python",
   "nbconvert_exporter": "python",
   "pygments_lexer": "ipython3",
   "version": "3.9.12"
  },
  "vscode": {
   "interpreter": {
    "hash": "743a2039db80e48bcb6d9ff1017fce7ec3eca18362451c5c38d3271cf2a761e4"
   }
  }
 },
 "nbformat": 4,
 "nbformat_minor": 2
}
